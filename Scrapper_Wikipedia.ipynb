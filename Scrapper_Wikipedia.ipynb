{
 "cells": [
  {
   "cell_type": "markdown",
   "metadata": {},
   "source": [
    "## Scrapper de Tablas de congresistas en Wikipedia\n",
    "#### Ejemplo Chile"
   ]
  },
  {
   "cell_type": "code",
   "execution_count": null,
   "metadata": {},
   "outputs": [],
   "source": [
    "#Importar paquetes\n",
    "import requests\n",
    "from bs4 import BeautifulSoup\n",
    "import pandas as pd\n",
    "import re"
   ]
  },
  {
   "cell_type": "code",
   "execution_count": null,
   "metadata": {},
   "outputs": [],
   "source": [
    "#Cambie abajo la url de wikipedia para otros paises\n",
    "Link = \"https://es.wikipedia.org/wiki/Anexo:Senadores_actuales_de_la_República_de_Chile\"\n",
    "pagina = requests.get(Link)"
   ]
  },
  {
   "cell_type": "code",
   "execution_count": null,
   "metadata": {},
   "outputs": [],
   "source": [
    "#Hacer un Soup\n",
    "soup = BeautifulSoup(pagina.content, 'html.parser')"
   ]
  },
  {
   "cell_type": "code",
   "execution_count": null,
   "metadata": {},
   "outputs": [],
   "source": [
    "Tabla = soup.find_all('table')[1] #la página puede tener más de una tabla, acá se escogió la primera (0)"
   ]
  },
  {
   "cell_type": "code",
   "execution_count": null,
   "metadata": {},
   "outputs": [],
   "source": [
    "#En wikipedia las entradas de una tabla empiezan con un td, no debe cambiar nada acá\n",
    "valores_lista = []\n",
    "for i in range(len(Tabla.find_all('td'))):\n",
    "    valor_fila = megaTable.find_all('td')[i].get_text()\n",
    "    valores_lista.append(valor_fila)"
   ]
  },
  {
   "cell_type": "code",
   "execution_count": null,
   "metadata": {},
   "outputs": [],
   "source": [
    "valores_lista"
   ]
  },
  {
   "cell_type": "code",
   "execution_count": null,
   "metadata": {},
   "outputs": [],
   "source": [
    "#Hago una lista para cada columna, me interesan solo la columna 0,2,5,6,7,8,9. El número total de columnas es 9, modifico el 9 si hay mas o menos columnas.\n",
    "nombre = []\n",
    "for i in range(4, len(valores_lista), 10):\n",
    "    nombre.append(valores_lista[i])\n",
    "    \n",
    "#bancada = []\n",
    "#for i in range(2, len(rowValList), 9):\n",
    "   # bancada.append(rowValList[i])\n",
    "    \n",
    "partido = []\n",
    "for i in range(5, len(valores_lista), 10):\n",
    "    partido.append(valores_lista[i])\n",
    "\n",
    "circuscripcion = []\n",
    "for i in range(1, len(valores_lista), 10):\n",
    "    circuscripcion.append(valores_lista[i])\n",
    "\n",
    "fecha_inicio = []\n",
    "for i in range(8, len(valores_lista), 10):\n",
    "    fecha_inicio.append(valores_lista[i])\n",
    "    \n",
    "fecha_fin = []\n",
    "for i in range(9, len(valores_lista), 10):\n",
    "    fecha_fin.append(valores_lista[i])"
   ]
  },
  {
   "cell_type": "code",
   "execution_count": null,
   "metadata": {},
   "outputs": [],
   "source": [
    "#Creo una base de datos con las columnas deseadas\n",
    "senado_chile= pd.DataFrame()\n",
    "senado_chile['nombre'] = nombre\n",
    "#senado_chile['bancada'] = bancada\n",
    "senado_chile['partido'] = partido\n",
    "senado_chile['circuscripcion'] = circuscripcion\n",
    "senado_chile['fecha_inicio'] = fecha_inicio\n",
    "senado_chile['fecha_fin'] = fecha_fin"
   ]
  },
  {
   "cell_type": "code",
   "execution_count": null,
   "metadata": {},
   "outputs": [],
   "source": [
    "senado_chile"
   ]
  },
  {
   "cell_type": "code",
   "execution_count": null,
   "metadata": {},
   "outputs": [],
   "source": [
    "#Elimino los \\n de toda la base, si es necesario\n",
    "senado_chile = senado_chile.replace(r'\\n',' ', regex=True)"
   ]
  },
  {
   "cell_type": "code",
   "execution_count": null,
   "metadata": {},
   "outputs": [],
   "source": [
    "#Elimino los [] con numeros adentro\n",
    "senado_chile = senado_chile.replace(r'\\[.*]','', regex=True)"
   ]
  },
  {
   "cell_type": "code",
   "execution_count": null,
   "metadata": {},
   "outputs": [],
   "source": [
    "senado_chile"
   ]
  },
  {
   "cell_type": "code",
   "execution_count": null,
   "metadata": {},
   "outputs": [],
   "source": [
    "#Separo los apellidos y nombres que estan juntos\n",
    "senado_chile['nombre'] = senado_chile['nombre'].str.replace( r\"([A-Z])\", r\" \\1\").str.strip()"
   ]
  },
  {
   "cell_type": "code",
   "execution_count": null,
   "metadata": {},
   "outputs": [],
   "source": [
    "#Guardo la base de datos\n",
    "senado_chile.to_excel(\"Senadores_Chile.xlsx\")"
   ]
  }
 ],
 "metadata": {
  "kernelspec": {
   "display_name": "Python 3",
   "language": "python",
   "name": "python3"
  },
  "language_info": {
   "codemirror_mode": {
    "name": "ipython",
    "version": 3
   },
   "file_extension": ".py",
   "mimetype": "text/x-python",
   "name": "python",
   "nbconvert_exporter": "python",
   "pygments_lexer": "ipython3",
   "version": "3.7.6"
  }
 },
 "nbformat": 4,
 "nbformat_minor": 4
}

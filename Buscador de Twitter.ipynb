{
 "cells": [
  {
   "cell_type": "code",
   "execution_count": null,
   "metadata": {},
   "outputs": [],
   "source": [
    "#pip install google"
   ]
  },
  {
   "cell_type": "code",
   "execution_count": null,
   "metadata": {},
   "outputs": [],
   "source": [
    "from googlesearch import search \n",
    "from urllib.parse import urlparse"
   ]
  },
  {
   "cell_type": "code",
   "execution_count": null,
   "metadata": {},
   "outputs": [],
   "source": [
    "personajes=[\"Abilio Santana\",\"Acacio Favacho\",\"Adolfo Viana\",\"Adriana Ventura\",\"Adriano do Baldy\",\"Aecio Neves\",\"Afonso Florence\"]"
   ]
  },
  {
   "cell_type": "code",
   "execution_count": null,
   "metadata": {},
   "outputs": [],
   "source": [
    "def buscador_twitter(personajes, pais):\n",
    "    for x in personajes:\n",
    "    query=x+\"Brasil Twitter\"\n",
    "    for j in search(query, tld=\"co.in\", num=10, stop=10, pause=2): \n",
    "        parsed_uri = urlparse(j)\n",
    "        result = '{uri.scheme}://{uri.netloc}/'.format(uri=parsed_uri)\n",
    "        if result==\"https://twitter.com/\":\n",
    "            result2=j.replace( r\"https://twitter.com/\", r\"@\").strip()\n",
    "            result2=result2.replace( r\"?lang=en\", r\" \").strip()\n",
    "            result2=result2.partition(\"?\")[0]\n",
    "            print(result2)\n",
    "            break\n",
    "        else:\n",
    "            result=None"
   ]
  },
  {
   "cell_type": "code",
   "execution_count": null,
   "metadata": {},
   "outputs": [],
   "source": []
  },
  {
   "cell_type": "code",
   "execution_count": null,
   "metadata": {},
   "outputs": [],
   "source": []
  },
  {
   "cell_type": "code",
   "execution_count": null,
   "metadata": {},
   "outputs": [],
   "source": []
  },
  {
   "cell_type": "code",
   "execution_count": null,
   "metadata": {},
   "outputs": [],
   "source": []
  }
 ],
 "metadata": {
  "kernelspec": {
   "display_name": "Python 3",
   "language": "python",
   "name": "python3"
  },
  "language_info": {
   "codemirror_mode": {
    "name": "ipython",
    "version": 3
   },
   "file_extension": ".py",
   "mimetype": "text/x-python",
   "name": "python",
   "nbconvert_exporter": "python",
   "pygments_lexer": "ipython3",
   "version": "3.7.6"
  }
 },
 "nbformat": 4,
 "nbformat_minor": 4
}
